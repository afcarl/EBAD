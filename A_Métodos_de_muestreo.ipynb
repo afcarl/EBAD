{
 "cells": [
  {
   "cell_type": "code",
   "execution_count": 1,
   "metadata": {},
   "outputs": [],
   "source": [
    "%matplotlib inline\n",
    "import numpy as np\n",
    "from scipy import stats\n",
    "from scipy.special import gamma\n",
    "import matplotlib.pyplot as plt\n",
    "plt.style.use('seaborn-darkgrid')\n",
    "from ipywidgets import interact\n",
    "import ipywidgets as ipyw"
   ]
  },
  {
   "cell_type": "markdown",
   "metadata": {},
   "source": [
    "En el siguiente ejemplo usamos un método de MonteCarlo para calcular el número $\\pi$ y el área de un cuarto de círculo inscripto en un cuadrado. El método funciona de la siguiene forma.\n",
    "\n",
    "* Generamos al azar una cierta cantidad de puntos dentro del cuadrado.\n",
    "* Contamos cuantos de esos puntos caen dentro del círculo.\n",
    "* El área del círculo es proporcial a la cantidad de puntos que caen dentro del círuclo respecto del total de puntos generados."
   ]
  },
  {
   "cell_type": "code",
   "execution_count": 2,
   "metadata": {},
   "outputs": [
    {
     "data": {
      "application/vnd.jupyter.widget-view+json": {
       "model_id": "d9a8f463d42a4d9b943f85efc181b23b",
       "version_major": 2,
       "version_minor": 0
      },
      "text/plain": [
       "A Jupyter Widget"
      ]
     },
     "metadata": {},
     "output_type": "display_data"
    }
   ],
   "source": [
    "def mc(N, calc_area=True):\n",
    "    xc = np.linspace(0, 1, 100)\n",
    "    yc = (1 - xc**2)**0.5\n",
    "    plt.plot(xc, yc, 'k-')\n",
    "    plt.plot([0, 1, 1, 0, 0], [1, 1, 0, 0, 1], color='grey', ls='-')\n",
    "\n",
    "    x, y = np.random.uniform(0, 1, size=(2, N))\n",
    "    inside = (x**2 + y**2)  <= 1\n",
    "    outside = np.invert(inside)\n",
    "\n",
    "    plt.plot(x[inside], y[inside], 'C0.')\n",
    "    plt.plot(x[outside], y[outside], 'C2.')\n",
    "    if calc_area:\n",
    "        area = inside.sum()/N\n",
    "        error = abs((area - np.pi/4)/area) * 100\n",
    "        plt.plot(0, 0,\n",
    "                 label='$área$ = {:4.2f}\\nerror = {:4.2f}%'.format(area, error),\n",
    "                 alpha=0)\n",
    "    else:\n",
    "        pi = inside.sum()*4/N\n",
    "        error = abs((pi - np.pi)/pi)* 100\n",
    "        plt.plot(0, 0,\n",
    "                 label='$\\hat \\pi$ = {:4.2f}\\nerror = {:4.2f}%'.format(pi, error),\n",
    "                 alpha=0)\n",
    "\n",
    "    plt.axis('square')\n",
    "    plt.legend(frameon=True,\n",
    "               framealpha=0.6,\n",
    "               fontsize=16,\n",
    "               loc=4);\n",
    "\n",
    "interact(mc,\n",
    "         N=ipyw.IntSlider(min=100, max=5000, step=1000, value=100));"
   ]
  },
  {
   "cell_type": "markdown",
   "metadata": {},
   "source": [
    "## La maldición de la dimensionalidad\n",
    "\n",
    "* O la concentración de la medida\n",
    "* O en dimensiones altas pasan cosas locas"
   ]
  },
  {
   "cell_type": "markdown",
   "metadata": {},
   "source": [
    "La mayoría de las personas dirían que el ejemplo anterior es un método válido para calcular volúmenes si en vez de circulos y cuadrados usáramos esferas y cubos. Si esto fuese cierto uno podría aventurarse a pensar que entonces debería funcionar en cualquier dimensión, es decir podríamos calcular _volúmenes_ usando d-esferas y d-cubos (dond `d` es cualquier entero mayor a 2). \n",
    "\n",
    "El siguiente código muestra que hay un problema con esa idea. A medida que las dimensiones aumentan el cociente entre el volumen de la d-esfera y el del d-cubo tiende a 0. Por lo tanto si usaramos este método en dimensiones _altas_ tendríamos que la mayoría de los puntos caen fuera de la d-esfera! y se acumulan en las _esquinas_ del d-cubo. "
   ]
  },
  {
   "cell_type": "code",
   "execution_count": 3,
   "metadata": {},
   "outputs": [
    {
     "data": {
      "image/png": "[encoded data removed]",
      "text/plain": [
       "<Figure size 432x288 with 1 Axes>"
      ]
     },
     "metadata": {},
     "output_type": "display_data"
    }
   ],
   "source": [
    "total = 100000\n",
    "dimensiones = range(2, 15)\n",
    "r = 1\n",
    "\n",
    "v_relativo = []\n",
    "for d in dimensiones:\n",
    "    x = np.random.random(size=(d, total))\n",
    "    inside = ((x ** 2).sum(axis=0) < 1).sum()\n",
    "    v_n = inside / total\n",
    "    v_relativo.append(inside / total)\n",
    "\n",
    "plt.plot(dimensiones, v_relativo);\n",
    "plt.xlabel('Dimensiones', fontsize=14)\n",
    "plt.ylabel(r'$\\frac{V_{O}}{V_{□}}$', rotation=0, labelpad=20, fontsize=16);"
   ]
  },
  {
   "cell_type": "markdown",
   "metadata": {},
   "source": [
    "Esto hace que este tipo de métodos NO funcione en dimensiones altas. Otros métodos como Metropolis-Hastings o MonteCarlo Hamiltoniano si funcionan en estos casos, intuitivamente estos métodos son capaces de concentrar el muestreo (la generación de puntos) en las zonas que nos interesa muestrear."
   ]
  },
  {
   "cell_type": "markdown",
   "metadata": {},
   "source": [
    "El volumen de una esfera en n-dimensiones es \n",
    "\n",
    "$$V_{d}(r)={\\frac {\\pi ^{\\frac {n}{d}}}{\\Gamma \\left({\\frac {d}{2}}+1\\right)}}r^{d}$$"
   ]
  },
  {
   "cell_type": "code",
   "execution_count": 4,
   "metadata": {},
   "outputs": [
    {
     "data": {
      "image/png": "[encoded data removed]",
      "text/plain": [
       "<Figure size 432x288 with 1 Axes>"
      ]
     },
     "metadata": {},
     "output_type": "display_data"
    }
   ],
   "source": [
    "dimensiones = range(2, 26)\n",
    "r = 1\n",
    "\n",
    "v_ss = []\n",
    "for d in dimensiones:\n",
    "    v_c = (2*r)**d\n",
    "    v_s = r**d * (np.pi**(d/2) / gamma(d/2 + 1))\n",
    "    v_ss.append(v_s)\n",
    "\n",
    "plt.plot(dimensiones, v_ss)\n",
    "plt.xlabel('Dimensión', fontsize=14);\n",
    "plt.ylabel('Volúmen', fontsize=14);"
   ]
  }
 ],
 "metadata": {
  "kernelspec": {
   "display_name": "Python 3",
   "language": "python",
   "name": "python3"
  },
  "language_info": {
   "codemirror_mode": {
    "name": "ipython",
    "version": 3
   },
   "file_extension": ".py",
   "mimetype": "text/x-python",
   "name": "python",
   "nbconvert_exporter": "python",
   "pygments_lexer": "ipython3",
   "version": "3.6.3"
  }
 },
 "nbformat": 4,
 "nbformat_minor": 2
}
