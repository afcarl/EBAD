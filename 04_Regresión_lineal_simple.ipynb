{
 "cells": [
  {
   "cell_type": "code",
   "execution_count": 4,
   "metadata": {},
   "outputs": [],
   "source": [
    "%matplotlib inline\n",
    "import pymc3 as pm\n",
    "import numpy as np\n",
    "import scipy.stats as stats\n",
    "import matplotlib.pyplot as plt\n",
    "import seaborn as sns\n",
    "sns.set_palette('colorblind')"
   ]
  },
  {
   "cell_type": "markdown",
   "metadata": {
    "collapsed": true
   },
   "source": [
    "# 1. Modelos lineales generalizados (MLG)"
   ]
  },
  {
   "cell_type": "markdown",
   "metadata": {},
   "source": [
    "En el presente capítulo comenzaremos a ver una familia de modelos ampliamente usados en estadística, los que se conocen como modelos lineales generalizados. Este modelo es la base de métodos como la regresión lineal, regresión múltiple, regresión logística, regresión de Poisson y métodos que son comunes en los cursos de estadística frecuentistas como el _t-test_, ANOVA, ANCOVA, etc.\n",
    "\n",
    "Todos estos modelos responden a la pregunta general ¿Cómo varía $y$ cuando varía $x$?. La variable $y$ suele recibir el nombre de variable independiente, predicha o respuesta. Mientras que la variable $x$ recibe el nombre de variable independiente o predictora. Por ejemplo si queremos predecir el peso de una persona a partir de su edad, el peso será la variable independiente y la edad la dependiente, pero esos roles se invertirán si en cambio predecimos la edad a partir del peso. La razón del nombre independiente (o predictora) es que el valor de esa variable no es predicho por el modelo si no que es establecido desde afuera del modelo, en otras palabras es una entrada del modelo y no un resultado. Hay que tener en claro que cuando hablamos de dependencia es por que **en nuestro modelo** hacemos que una variable dependa de la otra, pero esto no quiere decir, necesariamente, que exista una relación causal entre las variables. Es decir, usando un MLG lo único que se puede llegar a establecer es la existencia de una relación entre las variables, y por lo tanto la posibilidad de predecir una variable midiendo la otra. Pero hay que dejar en claro que estamos hablando de correlación entre variables no de relación causa-efecto. Es decir dependiendo del diseño experimental un MLG podrá ser usado para establecer una relación causa-efecto entre variables o solo el grado de correlación entre variables."
   ]
  },
  {
   "cell_type": "markdown",
   "metadata": {},
   "source": [
    "## 1.1 Regresión lineal simple"
   ]
  },
  {
   "cell_type": "markdown",
   "metadata": {},
   "source": [
    "Lo más probable es que ustedes ya hayan tenido contacto con lo que puede considerarse la base de todos los MLG, la regresión lineal simple:\n",
    "    \n",
    "$$y_i = \\alpha + \\beta x_i $$\n",
    "\n",
    "En este modelo $x$ se conoce como variable independiente (o variable predictora) e $y$ se conoce como variable dependiente (o variable predicha).  $\\beta$ es la pendiente e indica el cambio en $y$ por unidad de cambio de $x$, $\\alpha$ indica el valor de $y_i$ para cuando $x_i=0$ y gráficamente representa el punto en que la linea intercepta a la ordenada al origen.\n",
    "\n",
    "A fin de resolver este problema suele ser conveniente escribir esta ecuación de forma matricial. Que de forma resumida se escribe como:\n",
    "\n",
    "$$\\mathbf{y} = \\mathbf{X} \\beta $$\n",
    "\n",
    "y de forma expandida es:\n",
    "\n",
    "$$  \\begin{bmatrix}y_0 \\\\ y_1 \\\\ y_2 \\\\ y_n  \\end{bmatrix} = \\begin{bmatrix}1 & x_0 \\\\ 1 & x_1 \\\\ 1 & x_2\\\\ 1 & x_n \\end{bmatrix} \\begin{bmatrix} \\beta_0 \\\\ \\beta_1 \\end{bmatrix} $$\n",
    "\n",
    "donde $\\beta$ y $\\mathbf{X}$ se multiplican según el producto matricial, que da como resultado:\n",
    "\n",
    "$$ \\mathbf{y} = \\begin{bmatrix}\\beta_0 1 + \\beta_1 x_0 \\\\ \\beta_0 1 + \\beta_1 x_1 \\\\ \\beta_0 1 + \\beta_1 x_2 \\\\ \\beta_0 1 + \\beta_1 x_n  \\end{bmatrix}$$\n",
    "\n",
    "$\\beta$ es un vector de coeficientes y tiene $n$ filas, una fila más que la cantidad de variables. $\\mathbf{X}$ es una matriz y tiene $m$ filas, tantas como observaciones, y $n$ filas, una fila más que la cantidad de variables. En una regresión simple tenemos una sola variable por eso en este caso la matriz $\\mathbf{X}$ tiene dos filas. \n",
    "\n",
    "¿Por qué la primer columna está llena de _1s_? Esto es simplemente un truco que permite poner el coeficiente que corresponde a la ordenada al origen junto con la pendiente. Por eso tenemos un vector $\\beta$ (con dos elementos) en vez de un coeficiente $\\alpha$ y otro $\\beta$ como lo escribimos más arriba. La matriz $\\mathbf{X}$ recibe el nombre de matriz de diseño."
   ]
  },
  {
   "cell_type": "markdown",
   "metadata": {},
   "source": [
    "## Solución de un sistema de ecuaciones lineales\n",
    "\n",
    "Quienes hayan estudiado algebra lineal sabrán/recordarán que la expresión\n",
    "\n",
    "$$\\mathbf{y} = \\mathbf{X} \\beta $$\n",
    "\n",
    "representa un sistema de ecuaciones lineales el cual bajo cierta condiciones tiene solución analítica exacta. Para que esto suceda $\\mathbf{X}$ debe cumplir con ciertos requisitos. Lamentablemente para muchos problemas de interés $\\mathbf{X}$ no cumple con esos requisitos, por lo que necesitamos métodos alternativos para dar solución. Una alternativa ampliamente usada consiste en aplicar el método de los mínimos cuadrados, en vez de encontrar la solución exacta intentamos encontrar:\n",
    "\n",
    "$$min{||\\mathbf{y} - \\mathbf{X} \\beta||^2}$$\n",
    "\n",
    "Es decir intentamos encontrar el vector $\\beta$ que minimiza el cuadrado de las diferencias entre la variable observada ($y$) y las predicciones de nuestro modelo ($\\mathbf{X} \\beta$). Se puede demostrar que el anterior problema se resuelve como:\n",
    "\n",
    "$$\\mathbf{X}^T \\mathbf{X} \\beta = \\mathbf{X}^T \\mathbf{y}$$ \n",
    "\n",
    "Lo bueno de esta solución es que devuelve la solución exacta (cuando existe) y si no una _buena_ aproximación. Cada vez que ustedes calcularon el ajuste a una recta con algún _software_, lo más probable es que internamente el _software_ haya aplicado este método. Formulado de esa manera estamos frente a un problema de optimización, es decir queremos encontrar el conjunto de coeficientes que minimizen una función de error."
   ]
  },
  {
   "cell_type": "markdown",
   "metadata": {},
   "source": [
    "## La versión Bayesiana del problema\n",
    "\n",
    "La optimización no es la única forma de resolver problemas. Este mismo problema se puede pensar de forma Bayesiana. Formular el problema bajo esta perspectiva nos permite obtener los _mejores_ valores para los parámetros $\\alpha$ y $\\beta$ (lo mismo que la optimización) junto con una estimación de la incerteza con la que conocemos esos parámetros.\n",
    "\n",
    "Una ventaja adicional de esta aproximación Bayesiana es que nos permitirá adaptar fácilmente la regresión lineal a modelos que no asumen normalidad o que contienen más parámetros o, en general, que se adaptan mejor a nuestros problemas. Entonces, la regresión lineal simple expresada probabilísticamente queda como:\n",
    "\n",
    "$$\\mathbf{y}  \\sim \\mathcal{N}(\\mu=\\alpha + \\mathbf{X}\\beta, \\sigma=\\epsilon) $$\n",
    "\n",
    "Es decir los datos $y$ son generados como una distribución Gaussiana con media $\\alpha + \\mathbf{X} \\beta$ y desviación estándar $\\epsilon$.\n",
    "\n",
    "Dado que desconocemos los valores de $\\alpha$, $\\beta$ y $\\epsilon$ debemos fijar _a prioris_, una posibilidad serían los siguientes.\n",
    "\n",
    "$$\\alpha \\sim \\mathcal{N}(\\mu_{\\alpha}, \\sigma_{\\alpha})$$\n",
    "$$\\beta \\sim \\mathcal{N}(\\mu_{\\beta}, \\sigma_{\\beta}) $$\n",
    "$$\\epsilon \\sim U(0, h_{\\epsilon}) $$\n",
    "\n",
    "Usando los diagramas de Kruschke:\n",
    "\n",
    "<img alt=\"regresión_lineal_simple\" src=\"imagenes/MLG_base.png\", width=300>\n",
    "\n",
    "Si lo que se intenta es usar un _a priori_ ligeramente informativo para $epsilon$ la distribución uniforme con $h_{\\epsilon}$, fijado en un valor _grande_ como 10 o 100 veces el valor de la desviación estándar de lo datos, esto es suficiente para garantizar que el _a priori_ tendrá un efecto prácticamente nulo sobre la inferencia (si eso es lo que se pretende), en ese caso obtendremos exactamente los mismos valores para los coeficientes que si hubiésemos usado el método de mínimos cuadrados. En general no suele ser muy buena idea usar _a prioris_ que indiquen límites, salvo que sepamos que los límites son _reales_. Una alternativa para $\\epsilon$ es usar una distribución Media-Cauchy. Es decir, una distribución t con $\\nu=1$ y restringida a valores positivos, con una valor del parámetro _escala_ alto respecto de los datos. Es uso de la distribución Media-Cauchy da resultados más robustos cuando la cantidad de datos es pequeña (comparado con la distribución uniforme). Si se cuenta con mayor información sobre los posibles valores de la desviación estándar entonces puede ser útil usar una distribución gamma (parametrizada según la media y la desviación estandar de forma que sea más intuitiva interpretarla).\n",
    "\n",
    "En todos los siguientes ejemplos usaremos _a prioris_ ligeramente informativos. Recordemos que en problemas reales es posible que contemos con información útil que nos permita usar _a prioris_ algo más informativos. De hecho, aún sin tener mucha información en muchos problemas es posible saber, por ejemplo, el signo que deberá tener la pendiente aún sin haber observado los datos."
   ]
  },
  {
   "cell_type": "code",
   "execution_count": 5,
   "metadata": {},
   "outputs": [],
   "source": [
    "np.random.seed(1)\n",
    "N = 100\n",
    "alfa_real = 2.5\n",
    "beta_real = 0.9\n",
    "eps_real = np.random.normal(0, 0.5, size=N)\n",
    "\n",
    "x = np.random.normal(10, 1, N)\n",
    "# y = a + b*x + e\n",
    "y_real = alfa_real + beta_real * x \n",
    "y = y_real + eps_real\n",
    "\n",
    "# podemos centrar los datos antes de correr\n",
    "#x = x - x.mean()\n",
    "# o también podes estandarizar los datos\n",
    "#x = (x - x.mean())/x.std()\n",
    "#y = (y - y.mean())/y.std()"
   ]
  },
  {
   "cell_type": "code",
   "execution_count": 6,
   "metadata": {},
   "outputs": [
    {
     "name": "stderr",
     "output_type": "stream",
     "text": [
      "/home/osvaldo/anaconda3/lib/python3.5/site-packages/statsmodels/nonparametric/kdetools.py:20: VisibleDeprecationWarning: using a non-integer number instead of an integer will result in an error in the future\n",
      "  y = X[:m/2+1] + np.r_[0,X[m/2+1:],0]*1j\n"
     ]
    },
    {
     "data": {
      "image/png": "[encoded data removed]",
      "text/plain": [
       "<matplotlib.figure.Figure at 0x7f531e2e82b0>"
      ]
     },
     "metadata": {},
     "output_type": "display_data"
    }
   ],
   "source": [
    "plt.figure(figsize=(10,5))\n",
    "plt.subplot(1,2,1)\n",
    "plt.scatter(x, y)\n",
    "plt.plot(x, y_real)\n",
    "plt.subplot(1,2,2)\n",
    "sns.kdeplot(y)\n",
    "plt.tight_layout()"
   ]
  },
  {
   "cell_type": "code",
   "execution_count": 7,
   "metadata": {},
   "outputs": [
    {
     "name": "stderr",
     "output_type": "stream",
     "text": [
      "100%|██████████| 10000/10000 [00:04<00:00, 2434.71it/s] | 58/10000 [00:00<00:17, 579.12it/s]\n"
     ]
    }
   ],
   "source": [
    "with pm.Model() as modelo:\n",
    "    α = pm.Normal('α', mu=0, sd=10)\n",
    "    β = pm.Normal('β', mu=0, sd=10)\n",
    "    ɛ = pm.Uniform('ɛ', lower=0, upper=50)\n",
    "\n",
    "    y_pred = pm.Normal('y_pred', mu=α + β * x, sd=ɛ, observed=y)\n",
    "    \n",
    "    step = pm.Metropolis() \n",
    "    trace = pm.sample(10000, step)"
   ]
  },
  {
   "cell_type": "code",
   "execution_count": 8,
   "metadata": {},
   "outputs": [
    {
     "data": {
      "image/png": "[encoded data removed]",
      "text/plain": [
       "<matplotlib.figure.Figure at 0x7f531458b3c8>"
      ]
     },
     "metadata": {},
     "output_type": "display_data"
    }
   ],
   "source": [
    "burnin = 2000\n",
    "cadena = trace[burnin:]\n",
    "pm.traceplot(cadena);"
   ]
  },
  {
   "cell_type": "code",
   "execution_count": 11,
   "metadata": {},
   "outputs": [
    {
     "data": {
      "text/html": [
       "<div>\n",
       "<table border=\"1\" class=\"dataframe\">\n",
       "  <thead>\n",
       "    <tr style=\"text-align: right;\">\n",
       "      <th></th>\n",
       "      <th>mean</th>\n",
       "      <th>sd</th>\n",
       "      <th>mc_error</th>\n",
       "      <th>hpd_2.5</th>\n",
       "      <th>hpd_97.5</th>\n",
       "    </tr>\n",
       "  </thead>\n",
       "  <tbody>\n",
       "    <tr>\n",
       "      <th>α</th>\n",
       "      <td>1.851948</td>\n",
       "      <td>0.487850</td>\n",
       "      <td>0.047645</td>\n",
       "      <td>0.803305</td>\n",
       "      <td>2.701857</td>\n",
       "    </tr>\n",
       "    <tr>\n",
       "      <th>β</th>\n",
       "      <td>0.966640</td>\n",
       "      <td>0.047889</td>\n",
       "      <td>0.004679</td>\n",
       "      <td>0.879308</td>\n",
       "      <td>1.066296</td>\n",
       "    </tr>\n",
       "    <tr>\n",
       "      <th>ɛ</th>\n",
       "      <td>0.452527</td>\n",
       "      <td>0.032886</td>\n",
       "      <td>0.001027</td>\n",
       "      <td>0.388384</td>\n",
       "      <td>0.517342</td>\n",
       "    </tr>\n",
       "  </tbody>\n",
       "</table>\n",
       "</div>"
      ],
      "text/plain": [
       "       mean        sd  mc_error   hpd_2.5  hpd_97.5\n",
       "α  1.851948  0.487850  0.047645  0.803305  2.701857\n",
       "β  0.966640  0.047889  0.004679  0.879308  1.066296\n",
       "ɛ  0.452527  0.032886  0.001027  0.388384  0.517342"
      ]
     },
     "execution_count": 11,
     "metadata": {},
     "output_type": "execute_result"
    }
   ],
   "source": [
    "pm.df_summary(cadena)"
   ]
  },
  {
   "cell_type": "code",
   "execution_count": 12,
   "metadata": {},
   "outputs": [
    {
     "data": {
      "image/png": "[encoded data removed]",
      "text/plain": [
       "<matplotlib.figure.Figure at 0x7f5312db5dd8>"
      ]
     },
     "metadata": {},
     "output_type": "display_data"
    }
   ],
   "source": [
    "pm.autocorrplot(cadena);"
   ]
  },
  {
   "cell_type": "markdown",
   "metadata": {},
   "source": [
    "## 1.2 Modificando los datos antes de muestrear"
   ]
  },
  {
   "cell_type": "markdown",
   "metadata": {},
   "source": [
    "En el ejemplo anterior la autocorrelación para $\\alpha$ y $\\beta$ es muy alta y por lo tanto el número efectivo de muestras es muy bajo comparado con el número de pasos del MCMC. Claramente el muestreo es malo, pero ¿A qué se debe este mal desempeño?\n",
    "\n",
    "Todas las posibles rectas que ajusten los datos deben pasar por el punto medio de $x$ y el punto medio de $y$. Alrededor de ese punto al aumentar la pendiente la ordena al origen deberá disminuir y viceversa. Esta correlación puede hacer que el espacio de los valores más plausibles (que es lo que debemos muestrear) sea una \"diagonal\". Algo como lo siguiente:"
   ]
  },
  {
   "cell_type": "code",
   "execution_count": 16,
   "metadata": {},
   "outputs": [
    {
     "data": {
      "image/png": "[encoded data removed]",
      "text/plain": [
       "<matplotlib.figure.Figure at 0x7f5310defba8>"
      ]
     },
     "metadata": {},
     "output_type": "display_data"
    }
   ],
   "source": [
    "sns.kdeplot(cadena['α'], cadena['β'])\n",
    "plt.xlabel('α')\n",
    "plt.ylabel('β');"
   ]
  },
  {
   "cell_type": "markdown",
   "metadata": {},
   "source": [
    "Para algoritmos como Metropolis-Hastings esto puede ser problemático. Ya que la mayoría de las propuestas serán rechazadas y los valores aceptados estarán fuertemente correlacionados entre si. Imaginen en la figura anterior tener que moverse de una punta al centro de la elipse. Para moverse van alternando entre un paso en $\\alpha$ y uno en $\\beta$, queda claro que la única forma de moverse por espacios de alta probabilidad es en zig-zag, un pequeño paso en $\\alpha$ seguido de un pequeño paso en $\\beta$, es decir la convergencia es lenta y cada nuevo paso no puede estar muy lejos del anterior (está correlacionado con el anterior). Este problema aumenta a medida que aumentan las variables/dimensiones del problema. A medida que aumentan las dimensiones disminuye el cociente entre el _volumen_ que corresponde a posiciones de baja probabilidad y el volumen total del espacio muestreable.\n",
    "\n",
    "Una solución es centrar los datos en $X$, es decir a cada punto $X_i$ restarle la media  para todos los puntos $\\bar{X}$. \n",
    "\n",
    "$$X^* = X - \\bar{X}$$\n",
    "\n",
    "Como resultado el centro de $X^*$ será 0, es decir el punto alrededor del cual se mueve la recta al cambiar la pendiente será alrededor de la ordenada al origen, por lo que el espacio a muestrear es ahora mas \"circular\" o menos correlacionado.\n",
    "\n",
    "El centrar las variables, no solo se hace por razones computacionales. Hay casos en que ayuda a la interpretación de los resultados. Si los datos no están centrados la ordenada al origen es el valor de $y$ para cuando $X$ vale cero, no en todos los casos esta interpretación  tiene sentido, por ejemplo si las variables fueran peso y altura (no tiene sentido hablar de peso ni altura cero). En cambio al centrar las variables la ordenada al origen pasa a ser el valor de $y$ para el valor medio de $X$. \n",
    "\n",
    "En caso de querer expresar el modelo en términos de la variable $X$ no-centrada, una vez terminado el análisis, habrá que corregir el valor de la ordenada al origen de la siguiente forma:\n",
    "\n",
    "$$\\alpha = \\alpha^* - \\beta^* \\bar{X}$$\n",
    "\n",
    "Esta corrección es el resultado de:\n",
    "\n",
    "$$X^* = X - \\bar{X}$$\n",
    "$$y = \\alpha^* + \\beta^* X^* + \\epsilon$$\n",
    "$$y = \\alpha^* + \\beta^*  (X - \\bar{X}) + \\epsilon$$\n",
    "$$y = \\alpha^* - \\beta^*  \\bar{X}+ \\beta^*  X  + \\epsilon$$\n",
    "\n",
    "De donde se puede ver que:\n",
    "\n",
    "$$\\alpha = \\alpha^* - \\beta^*  \\bar{X}$$\n",
    "$$\\beta = \\beta^*$$\n",
    "\n",
    "Queda como ejercicio, hacer la prueba de centrar los datos antes de resolver el modelo y revisar como cambia la autocorrelación de los parámetros durante el muestreo, los resultados obtenidos y la correlación entre $\\alpha$ y $\\beta$.\n",
    "\n",
    "En muchos casos no solo resulta conveniente centrar los datos si no que puede ser convenientes estandarizarlos es decir\n",
    "\n",
    "$$X^* = \\frac{X - \\bar{X}}{X_{sd}}$$\n",
    "$$y^* = \\frac{y - \\bar{y}}{y_{sd}}$$\n",
    "\n",
    "Una ventaja de estandarizar los datos, es que siempre es posible aplicar los mismos _a prioris_ ligeramente informativos, sin preocuparse por la escala de los datos. Otra ventaja de estadarizar las variables es que un cambio en una unidad es un cambio en una desviación estándar (Z-score), en mucho problemas puede ser más simple hablar de Z-scores que hablar en términos de las unidades originales. Esta idea también se aplica cuando trabajamos con más de una variable predictora (regresión lineal múltiple), en esos es muy probable que cada variable tenga rangos muy distintos estandarizar todas ellas puede facilitar la comparación entre sus efectos. \n",
    "\n",
    "Al igual que centrar los datos estandarizarlos también tiene ventajas computacionales. Por lo que es una transformación comúnmente aplicada en estadística y _machine learning_. En muchos problemas el rango para distintas variables puede ser muy diferente, incluso ordenes de magnitud diferente esto hace que muchos algoritmos (no solo Metropolis-Hastings) tengan problemas. Por ej cualquier algoritmo que confíe en computar distancias euclídeas se verá afectado, ya que si no se estandariza, el valor de la distancia dependerá fuertemente de la variable con el rango más amplio, minimizando la contribución de las otras variables al cómputo de la distancia, otro caso corresponde a algoritmos que hacen uso del minimizador _gradiente descendiente_, ya que este algoritmo también deberá zigzagear si las variables no han sido estandarizadas. En definitiva si nuestro método de muestreo tiene problemas es probable que una de las causas sea la falta de estandarización de los datos."
   ]
  },
  {
   "cell_type": "markdown",
   "metadata": {},
   "source": [
    "## 1.3 Cambiando el método de muestreo"
   ]
  },
  {
   "cell_type": "markdown",
   "metadata": {},
   "source": [
    "Por supuesto si el problema reside en el método de muestreo una posible solución es usar otros métodos de muestreo. NUTS (y en general el Hamiltonian Monte Carlo, del cual deriva NUTS) fue diseñado precisamente para resolver este tipo de problemas. Para usar NUTS basta con reemplazar _pm.Metropolis()_ por _pm.NUTS()_. NUTS requiere de un parámetro llamado _scaling_, este parámetro le indica algo así como que tan grande pueden ser los pasos en cada dimensión. Si bien NUTS es capaz de estimar este parámetro es recomendable darle un valor inicial razonable, una forma simple de hacer esto es diciéndole que _scaling_ es igual al resultado de *find\\_MAP()*. Un mal valor de _scalling_ puede hacer que NUTS funcione muy lentamente o que incluso se detenga. Al ser NUTS más eficiente que Metropolis suele ser necesario realizar un muestreo con un menor número de pasos, un periodo _burnin_ más corto y un menor _thinning_, todo esto a costa de una mayor costo computacional."
   ]
  },
  {
   "cell_type": "code",
   "execution_count": null,
   "metadata": {},
   "outputs": [],
   "source": [
    "with pm.Model() as modelo_n:\n",
    "    alpha = pm.Normal('alpha', mu=0, sd=10)\n",
    "    beta = pm.Normal('beta', mu=0, sd=10)\n",
    "    epsilon = pm.Uniform('epsilon', lower=0, upper=10)\n",
    "    \n",
    "    mu = pm.Deterministic('mu', alpha + beta * x)\n",
    "\n",
    "    y_pred = pm.Normal('y_pred', mu=mu, sd=epsilon, observed=y)\n",
    "    \n",
    "    start = pm.find_MAP() \n",
    "    step = pm.NUTS(scaling=start) \n",
    "    trace_n = pm.sample(10000, step=step, start=start)"
   ]
  },
  {
   "cell_type": "code",
   "execution_count": null,
   "metadata": {},
   "outputs": [],
   "source": [
    "burnin = 0\n",
    "thin = 1\n",
    "cadena_n = trace_n[burnin::thin]\n",
    "pm.traceplot(cadena_n, varnames);"
   ]
  },
  {
   "cell_type": "code",
   "execution_count": null,
   "metadata": {},
   "outputs": [],
   "source": [
    "pm.autocorrplot(cadena_n, varnames);"
   ]
  },
  {
   "cell_type": "code",
   "execution_count": null,
   "metadata": {},
   "outputs": [],
   "source": [
    "pm.df_summary(cadena_n, varnames)"
   ]
  },
  {
   "cell_type": "markdown",
   "metadata": {},
   "source": [
    "## 1.4 Pruebas predictivas _a posteriori_"
   ]
  },
  {
   "cell_type": "markdown",
   "metadata": {},
   "source": [
    "Las pruebas predictivas _a posteriori_ son una forma de evaluar un modelo. Una vez obtenido el modelo Bayesiano se usa el _a posteriori_ para generar _datos predichos_ $\\tilde{y}$, los cuales están condicionados por los valores estimados de $\\theta$ y por los datos ya observados $y$. Los datos generados son predictivos ya que son los datos que se esperaría ver por ejemplo en un futuro experimento, es decir son variables no observadas pero potencialmente observables. La prueba consiste en comparar los datos observados con los datos predichos a partir del _a posteriori_. \n",
    "\n",
    "$$p(\\tilde{y}|y, \\theta)$$\n",
    "\n",
    "Las pruebas predictivas _a posteriori_ son pruebas de autoconsistencia. Este ejercicio nos permite evaluar si el modelo es razonable, la idea general no es determinar si un modelo es _correcto_ o no lo es ya que como dijo George Box _\"todos los modelos están equivocados, pero algunos son útiles\"_. El grado de confianza en la _verosimilitud_ de los modelos ciertamente es distinta entre practicantes de distintas disciplinas científicas, en disciplinas como física cuando se estudian sistemas relativamente simples bajo condiciones experimentales extremadamente controladas y haciendo uso de _teorías fuertes_, es probable que se le asigne un alto grado de confianza a ciertos modelos. Pero esto no suele ser cierto en disciplinas como ciencias sociales o biología (aunque sospecho que la variabilidad encontrada en biología es muy alta!). En el caso de contar _a prioris_ muy informativos la evaluación de un modelo también puede ser usado para evaluar si los propios datos son razonables, indicando que tal vez sea necesario conseguir nuevos datos o revisar como se obtuvieron los datos o como se procesaron. \n",
    "\n",
    "En definitiva la principal utilidad de las pruebas de predictivas _a posteriori_ debería ser el permitirnos dar una segunda mirada, crítica, al modelo y tratar de entender la razón de discrepancias sistemáticas (si las hubiera), estas discrepancias nos pueden llevar a entender mejor los límites del modelo, abandonar el modelo por completo o quizá modificar el modelo.\n",
    "\n",
    "Si bien se han desarrollado métodos _formales_ o _cuantitativos_ para realizar pruebas predictivas _a posteriori_, una aproximación que suele ser más informativa y simple de interpretar es realizar gráficas.\n",
    "\n",
    "En PyMC3 una forma de obtener muestras de _datos predichos_ ($\\tilde{y}$) es utilizar la función *sample_ppc()*. Por defecto está función devolverá valores predichos para las _variables observadas_ (llamadas en PyMC3 *observed_RVs*)."
   ]
  },
  {
   "cell_type": "code",
   "execution_count": null,
   "metadata": {},
   "outputs": [],
   "source": [
    "ppc = pm.sample_ppc(cadena_n, samples=231, model=modelo_n)"
   ]
  },
  {
   "cell_type": "markdown",
   "metadata": {},
   "source": [
    "En este caso obtuvimos 231 muestras, las muestras tendrán la dimensión de la variable tal cual fue definida en el modelo en nuestro caso *y_pred* era un vector de 100 elementos."
   ]
  },
  {
   "cell_type": "code",
   "execution_count": null,
   "metadata": {},
   "outputs": [],
   "source": [
    "ppc['y_pred'].shape"
   ]
  },
  {
   "cell_type": "markdown",
   "metadata": {},
   "source": [
    "Una vez obtenida una muestra de $\\tilde{y}$, podemos compararla con los datos $y$, por ejemplo generados gráficos _kde_."
   ]
  },
  {
   "cell_type": "code",
   "execution_count": null,
   "metadata": {},
   "outputs": [],
   "source": [
    "# datos predichos\n",
    "for y_tilde in ppc['y_pred']:\n",
    "    sns.kdeplot(y_tilde, alpha=0.1, c='g');\n",
    "# datos reales\n",
    "sns.kdeplot(y, linewidth=3);"
   ]
  },
  {
   "cell_type": "markdown",
   "metadata": {},
   "source": [
    "## 1.5 Interpretando el _a posteriori_"
   ]
  },
  {
   "cell_type": "markdown",
   "metadata": {},
   "source": [
    "Como ya vimos para otros casos podemos explorar el _a posteriori_ usando las funciones _traceplot_ y *df_summary* ofrecidas por PyMC3 o podemos usar nuestras propias funciones. Por ejemplo puede ser útil reportar los valores medios de $\\alpha$ y $\\beta$ y la recta que corresponde a esos valores medios."
   ]
  },
  {
   "cell_type": "code",
   "execution_count": null,
   "metadata": {},
   "outputs": [],
   "source": [
    "plt.scatter(x, y);\n",
    "#plt.plot(x, y_real, color='r')\n",
    "alfa_m = cadena_n['alpha'].mean()\n",
    "beta_m = cadena_n['beta'].mean()\n",
    "plt.plot(x, alfa_m + beta_m*x, c='b', label='y = {:.2f} + {:.2f} * x'.format(alfa_m, beta_m))\n",
    "plt.xlabel('x')\n",
    "plt.ylabel('y', rotation=0)\n",
    "plt.legend(loc=2, fontsize=14);"
   ]
  },
  {
   "cell_type": "markdown",
   "metadata": {},
   "source": [
    "O podemos hacer algo como la gráfica anterior a la que le agregamos una muestra de rectas semitransparentes tomadas del _a posteriori_, para dar una idea visual de la incertidumbre de nuestra estimación."
   ]
  },
  {
   "cell_type": "code",
   "execution_count": null,
   "metadata": {},
   "outputs": [],
   "source": [
    "plt.scatter(x, y);\n",
    "#plt.plot(x, y_real, color='r')\n",
    "\n",
    "for i in range(0, len(cadena_n['alpha']), 10):\n",
    "    plt.plot(x, cadena_n['alpha'][i] + cadena_n['beta'][i]*x, c='g', alpha=0.02)\n",
    "    \n",
    "plt.plot(x, alfa_m + beta_m*x, c='b', label='y = {:.2f} + {:.2f} * x'.format(alfa_m, beta_m))\n",
    "\n",
    "plt.xlabel('x')\n",
    "plt.ylabel('y', rotation=0)\n",
    "plt.legend(loc=2, fontsize=14);"
   ]
  },
  {
   "cell_type": "markdown",
   "metadata": {},
   "source": [
    "O directamente podemos dibujar el HDI (por ejemplo 98%) de la media $\\mu$:"
   ]
  },
  {
   "cell_type": "code",
   "execution_count": null,
   "metadata": {},
   "outputs": [],
   "source": [
    "#plt.scatter(x, y);\n",
    "#plt.plot(x, y_real, color='r')\n",
    "\n",
    "plt.plot(x, alfa_m + beta_m*x, c='b', label='y = {:.2f} + {:.2f} * x'.format(alfa_m, beta_m))\n",
    "\n",
    "idx = np.argsort(x)\n",
    "x_ord = x[idx]\n",
    "sig = pm.hpd(cadena_n['mu'], alpha=.02)[idx]\n",
    "plt.fill_between(x_ord, sig[:,0], sig[:,1], color='g', alpha=0.5)\n",
    "\n",
    "plt.xlabel('x')\n",
    "plt.ylabel('y', rotation=0);"
   ]
  },
  {
   "cell_type": "markdown",
   "metadata": {},
   "source": [
    "O podemos graficar el HDI (95 y 50) de los datos predichos $\\tilde{y}$, es decir según el modelo donde se espera ver el 95% y el 50% de los valores predichos."
   ]
  },
  {
   "cell_type": "code",
   "execution_count": null,
   "metadata": {},
   "outputs": [],
   "source": [
    "plt.scatter(x, y)\n",
    "plt.plot(x, alfa_m + beta_m*x, c='b', label='y = {:.2f} + {:.2f} * x'.format(alfa_m, beta_m))\n",
    "\n",
    "sig0 = pm.hpd(ppc['y_pred'], alpha=0.5)[idx]\n",
    "sig1 = pm.hpd(ppc['y_pred'], alpha=0.05)[idx]\n",
    "plt.fill_between(x_ord, sig0[:,0], sig0[:,1], color='g', alpha=0.5);\n",
    "plt.fill_between(x_ord, sig1[:,0], sig1[:,1], color='g', alpha=0.5);"
   ]
  },
  {
   "cell_type": "markdown",
   "metadata": {
    "collapsed": true
   },
   "source": [
    "El aspecto _aserrado_ o irregular de la curva debería disminuir a medida que aumente el número de muestras para *y_pred*.\n",
    "\n",
    "Cuando realizamos una regresión lineal es posible que solo nos interese saber cual es el cambio de la variable dependiente cuando cambiamos la independiente. En ese caso deberemos mirar el valor de $\\beta$, recordemos que el _a posteriori_ contiene toda la información posible sobre $\\beta$ dado el modelo y los datos.\n",
    "\n",
    "Podría ser que nos interese determinar si los valores de la pendiente son o no compatibles con algún valor, por ejemplo 0 si lo que intentamos determinar es si existe algún efecto de una variable sobre la otra, o algún otro valor en particular como 0.9. O si la pendiente es positiva o negativa, ya que hay estudios previos que indican una u otra posibilidad. Como vimos anteriormente esto se puede hacer reportando directamente el _a posteriori_ o reportando el HDI junto con la media o el modo, o haciendo uso de la ROPE."
   ]
  },
  {
   "cell_type": "code",
   "execution_count": null,
   "metadata": {},
   "outputs": [],
   "source": [
    "plot_post(cadena_n['beta'], xlab='x', comp_val=.9, ROPE=[0.85,.95])\n",
    "plt.xlim(0.7, 1);"
   ]
  },
  {
   "cell_type": "markdown",
   "metadata": {},
   "source": [
    "## 1.6 Coeficiente de correlación de Pearson"
   ]
  },
  {
   "cell_type": "markdown",
   "metadata": {},
   "source": [
    "Muchas veces al realizar regresiones lineales, además de los parámetros de la recta, nos interesa saber que tan correlacionadas están dos variables. El coeficiente de correlación de Pearson ($r$) es una medida de cuan lineal es la relación entre dos variables, cuando este valor se acerca a ±1 la relación es perfectamente lineal, y cuando $r=0$ no hay linearidad entre las variables. Es muy fácil que se suela confundir a $r$ con la pendiente de la recta $\\beta$. La pendiente es una medida del cambio esperado en $y$ por unidad de cambio en $x$. \n",
    "\n",
    "En el siguiente gráfico se observan varios conjuntos de puntos y se indica el coeficiente de correlación. En la primer fila se puede ver que $r$ refleja la magnitud de la linearidad entre variables y la dirección (positiva o negativa). En la segunda fila se ve que $r$ no es necesariamente igual a la pendiente, el conjunto de puntos en el centro tiene pendiente 0 pero coeficiente de correlación indefinido (por que la varianza de $y$ es nula). En la última fila se puede observar que $r$ no es capaz de medir relaciones no lineales entre variables.\n",
    " \n",
    "<a href=\"https://en.wikipedia.org/wiki/Pearson_product-moment_correlation_coefficient\">\n",
    "<img border=\"0\" alt=\"Correlación\" src=\"imagenes/Correlación.png\"></a>"
   ]
  },
  {
   "cell_type": "markdown",
   "metadata": {},
   "source": [
    "Parte de la confusión se origina en que la pendiente y el coeficiente de correlación de Pearson están relacionados como muestra la siguiente expresión:\n",
    "    \n",
    "$$r = \\beta \\frac{sd(X)}{sd(Y)}$$\n",
    "\n",
    "Entonces podemos decir que la pendiente y el coeficiente de correlación de Pearson serán iguales solo cuando las desviaciones estándar de $X$ e $Y$ sean iguales, por ejemplo cuando los datos estén estandarizados.\n",
    "\n",
    "El coeficiente de correlación de Pearson $r$ está relacionada con otra cantidad llamada coeficiente de determinación y que es simplemente $r^2$. A continuación se muestran dos formas de obtener $r^2$, en la linea 9 hemos usado la definición dada mas arriba que relaciona $r$ con la pendiente. En este caso las desviaciones estandard las hemos calculado directamente de los datos, pero si fuese necesario se podrían inferir junto con el resto de los parámetros. En las lineas 11-14 se pueden ver otra forma de calcular $r^2$, es probable que estas lineas le resulten familiares para quienes tengan familiaridad con el método de mínimos-cuadrados. $ss_{reg}$ es una medida de la dispersión entre la linea predicha y la media de los datos, es proporcional a la varianza en el modelo (fíjense que la formula es la de una varianza pero sin dividir en la cantidad de observaciones). $ss_{reg}$ es proporcional a la varianza de los datos (solo falta dividir en la cantidad de observaciones). Es por esto que se suele referir al coeficiente de correlación, $r^2$, como la varianza explicada por el modelo."
   ]
  },
  {
   "cell_type": "code",
   "execution_count": null,
   "metadata": {},
   "outputs": [],
   "source": [
    "with pm.Model() as modelo_n:\n",
    "    alpha = pm.Normal('alpha', mu=0, sd=100)\n",
    "    beta = pm.Normal('beta', mu=0, sd=100)\n",
    "    epsilon = pm.Uniform('epsilon', lower=0, upper=10)\n",
    "    \n",
    "    mu = alpha + beta * x\n",
    "    y_pred = pm.Normal('y_pred', mu=mu, sd=epsilon, observed=y)\n",
    "\n",
    "    rb = pm.Deterministic('rb', (beta*x.std()/y.std())**2)\n",
    "\n",
    "    y_mean = y.mean()\n",
    "    ss_reg = pm.sum((mu-y_mean)**2)\n",
    "    ss_tot = pm.sum((y-y_mean)**2)\n",
    "    rss = pm.Deterministic('rss', ss_reg/ss_tot)\n",
    "       \n",
    "    start = pm.find_MAP()\n",
    "    step = pm.NUTS(scaling=start)\n",
    "    trace_n = pm.sample(10000, step=step, start=start)"
   ]
  },
  {
   "cell_type": "code",
   "execution_count": null,
   "metadata": {},
   "outputs": [],
   "source": [
    "cadena_n = trace_n[1000::2]\n",
    "varnames = [alpha, beta, epsilon, rss, rb]\n",
    "pm.traceplot(cadena_n, varnames);"
   ]
  },
  {
   "cell_type": "code",
   "execution_count": null,
   "metadata": {},
   "outputs": [],
   "source": [
    "pm.df_summary(cadena_n, varnames)"
   ]
  },
  {
   "cell_type": "markdown",
   "metadata": {},
   "source": [
    "## 1.7 Regresión lineal robusta"
   ]
  },
  {
   "cell_type": "markdown",
   "metadata": {},
   "source": [
    "El supuesto de normalidad de la distribución de los errores es un subproducto de una era en donde las computadoras no existían y por lo tanto los cálculos había que hacerlos a mano, por lo tanto las personas buscaban (razonablemente) formas simples de resolver analíticamente los problemas. Hoy en día no suele ser una restricción el no contar con una solución analítica ya que contamos con numerosos métodos numéricos y sobre todo con computadoras para resolverlos sin demasiado esfuerzo. Esto no quiero decir que resolver problemas analíticamente no sea provechoso, solo que en muchos casos es posible otras aproximaciones. La pregunta ¿Son mis datos normales? suele tener como respuesta invariable, NO!, de todas formas los datos suelen ser lo _suficientemente normales_ como para que los métodos que asumen normalidad funcionen bien. \n",
    "\n",
    "Como hicimos en el capítulo anterior usaremos la distribución t de Student en vez de la distribución Gaussiana.\n",
    "\n",
    "<img alt=\"regresión_lineal_simple\" src=\"imagenes/MLG_regresión_robusta.png\", width=500>"
   ]
  },
  {
   "cell_type": "markdown",
   "metadata": {},
   "source": [
    "Como ejemplo de la robustez que se puede lograr al cambiar la distribución Normal por una t de Student usaremos el tercer grupo de datos del cuarteto de [Anscombe](https://en.wikipedia.org/wiki/Anscombe's_quartet) (quienes no conozcan este cuarteto no dejen de hacer click en el enlace)."
   ]
  },
  {
   "cell_type": "code",
   "execution_count": null,
   "metadata": {
    "collapsed": true
   },
   "outputs": [],
   "source": [
    "x_3 = np.array([10.0, 8.0, 13.0, 9.0, 11.0, 14.0, 6.0, 4.0, 12.0, 7.0, 5.0])\n",
    "y_3 = np.array([7.46, 6.77, 12.74, 7.11, 7.81, 8.84, 6.08, 5.39, 8.15, 6.42, 5.73])"
   ]
  },
  {
   "cell_type": "code",
   "execution_count": null,
   "metadata": {},
   "outputs": [],
   "source": [
    "plt.figure(figsize=(10,5))\n",
    "plt.subplot(1,2,1)\n",
    "beta_c, alfa_c = stats.linregress(x_3, y_3)[:2]\n",
    "plt.plot(x_3, (alfa_c + beta_c* x_3), label='y ={:.2f} + {:.2f} * x'.format(alfa_c, beta_c));\n",
    "plt.scatter(x_3, y_3);\n",
    "plt.legend(loc=0, fontsize=14)\n",
    "plt.subplot(1,2,2)\n",
    "sns.kdeplot(y_3);\n",
    "plt.tight_layout()"
   ]
  },
  {
   "cell_type": "code",
   "execution_count": null,
   "metadata": {},
   "outputs": [],
   "source": [
    "with pm.Model() as modelo_t:\n",
    "    alpha = pm.Normal('alpha', mu=0, sd=100)\n",
    "    beta = pm.Normal('beta', mu=0, sd=100)\n",
    "    epsilon = pm.Uniform('epsilon', lower=0, upper=10)\n",
    "    nu0 = pm.Exponential('nu0', 1/29)\n",
    "    nu = pm.Deterministic('nu', nu0 + 1)\n",
    "\n",
    "    y_pred = pm.StudentT('y_pred', mu=alpha + beta * x_3, sd=epsilon, nu=nu, observed=y_3)\n",
    "\n",
    "    start = pm.find_MAP()\n",
    "    step = pm.NUTS(scaling=start) \n",
    "    trace_t = pm.sample(5000, step=step, start=start)"
   ]
  },
  {
   "cell_type": "code",
   "execution_count": null,
   "metadata": {},
   "outputs": [],
   "source": [
    "cadena_t = trace_t[::]\n",
    "varnames=['alpha', 'beta', 'epsilon', 'nu']\n",
    "pm.traceplot(cadena_t, varnames);"
   ]
  },
  {
   "cell_type": "code",
   "execution_count": null,
   "metadata": {},
   "outputs": [],
   "source": [
    "pm.df_summary(cadena_t, varnames)"
   ]
  },
  {
   "cell_type": "code",
   "execution_count": null,
   "metadata": {},
   "outputs": [],
   "source": [
    "#pm.autocorrplot(cadena_t, varnames);"
   ]
  },
  {
   "cell_type": "code",
   "execution_count": null,
   "metadata": {},
   "outputs": [],
   "source": [
    "plt.figure(figsize=(10,5))\n",
    "plt.subplot(1,2,1)\n",
    "beta_c, alfa_c = stats.linregress(x_3, y_3)[:2]\n",
    "plt.plot(x_3, (alfa_c + beta_c* x_3), label='no-robusta');\n",
    "plt.scatter(x_3, y_3, color='r');\n",
    "alfa_m = cadena_t['alpha'].mean()\n",
    "beta_m = cadena_t['beta'].mean()\n",
    "plt.plot(x_3, alfa_m + beta_m*x_3, c='g', label='robusta')\n",
    "plt.xlabel('$x$', fontsize=16)\n",
    "plt.ylabel('$y$', rotation=0, fontsize=16)\n",
    "plt.legend(loc=2, fontsize=12);\n",
    "plt.tight_layout()"
   ]
  },
  {
   "cell_type": "code",
   "execution_count": null,
   "metadata": {},
   "outputs": [],
   "source": [
    "plt.scatter(x_3, y_3);\n",
    "alfa_m = cadena_t['alpha'].mean()\n",
    "beta_m = cadena_t['beta'].mean()\n",
    "plt.plot(x_3, alfa_m + beta_m*x_3, c='g', label='y = {:.2f} + {:.2f} * x'.format(alfa_m, beta_m))\n",
    "plt.xlabel('x')\n",
    "plt.ylabel('y', rotation=0)\n",
    "plt.legend(loc=0, fontsize=14);"
   ]
  },
  {
   "cell_type": "code",
   "execution_count": null,
   "metadata": {
    "collapsed": true
   },
   "outputs": [],
   "source": [
    "ppc = pm.sample_ppc(cadena_t, samples=1000, model=modelo_t)"
   ]
  },
  {
   "cell_type": "code",
   "execution_count": null,
   "metadata": {},
   "outputs": [],
   "source": [
    "# datos predichos\n",
    "for y_tilde in ppc['y_pred']:\n",
    "    sns.kdeplot(y_tilde, alpha=0.5, c='g');\n",
    "# datos reales\n",
    "sns.kdeplot(y_3, linewidth=3);"
   ]
  },
  {
   "cell_type": "code",
   "execution_count": null,
   "metadata": {},
   "outputs": [],
   "source": [
    "plt.scatter(x_3, y_3);\n",
    "plt.xlabel('x')\n",
    "plt.ylabel('y', rotation=0)\n",
    "for i in range(0, len(cadena_t['alpha']), 10):\n",
    "    plt.plot(x_3, cadena_t['alpha'][i] + cadena_t['beta'][i]*x_3, c='g', alpha=1);"
   ]
  },
  {
   "cell_type": "markdown",
   "metadata": {
    "collapsed": true
   },
   "source": [
    "## 1.8 Regresión lineal jerárquica"
   ]
  },
  {
   "cell_type": "code",
   "execution_count": null,
   "metadata": {},
   "outputs": [],
   "source": [
    "N = 20\n",
    "M = 8\n",
    "idx = np.repeat(range(M-1), N)\n",
    "idx = np.append(idx, 7)\n",
    "\n",
    "alfa_real = np.random.normal(2.5, 0.5, size=M)\n",
    "beta_real = np.random.beta(0.9*100, 0.1*100, size=M)\n",
    "eps_real = np.random.normal(0, 0.5, size=len(idx))\n",
    "\n",
    "y_m = np.zeros(len(idx))\n",
    "x_m = np.random.normal(10, 1, len(idx))\n",
    "y_m = alfa_real[idx] + beta_real[idx] * x_m  + eps_real"
   ]
  },
  {
   "cell_type": "code",
   "execution_count": null,
   "metadata": {},
   "outputs": [],
   "source": [
    "plt.figure(figsize=(10,5))\n",
    "j, k = 0, N\n",
    "for i in range(M):\n",
    "    plt.subplot(2,4,i+1)\n",
    "    plt.scatter(x_m[j:k], y_m[j:k])\n",
    "    plt.xlim(6, 15)\n",
    "    plt.ylim(7, 17)\n",
    "    #print(stats.linregress(x_m[j:k], y_m[j:k])[:2])\n",
    "    j += N\n",
    "    k += N\n",
    "plt.tight_layout()"
   ]
  },
  {
   "cell_type": "code",
   "execution_count": null,
   "metadata": {},
   "outputs": [],
   "source": [
    "x_centrada = x_m - x_m.mean()"
   ]
  },
  {
   "cell_type": "code",
   "execution_count": null,
   "metadata": {},
   "outputs": [],
   "source": [
    "with pm.Model() as modelo_desagrupado:\n",
    "    alpha_tmp = pm.Normal('alpha_tmp', mu=0, sd=10, shape=M)\n",
    "    beta = pm.Normal('beta', mu=0, sd=10, shape=M)\n",
    "    epsilon = pm.Uniform('epsilon', lower=0, upper=10)\n",
    "    nu0 = pm.Exponential('nu0', 1/29)\n",
    "    nu = pm.Deterministic('nu', nu0 + 1)\n",
    "\n",
    "    y_pred = pm.StudentT('y_pred', mu=alpha_tmp[idx] + beta[idx] * x_centrada, sd=epsilon, nu=nu, observed=y_m)\n",
    "\n",
    "    # corregimos alfa para que esté en la escala original de los datos\n",
    "    alpha = pm.Deterministic('alpha', alpha_tmp - beta * x_m.mean()) \n",
    "    \n",
    "    start = pm.find_MAP()\n",
    "    step = pm.Metropolis() \n",
    "    trace_d = pm.sample(10000, step=step, start=start)"
   ]
  },
  {
   "cell_type": "code",
   "execution_count": null,
   "metadata": {},
   "outputs": [],
   "source": [
    "cadena_d = trace_d[1000::5]\n",
    "varnames=['alpha', 'beta', 'epsilon', 'nu']\n",
    "pm.traceplot(cadena_d, varnames);"
   ]
  },
  {
   "cell_type": "code",
   "execution_count": null,
   "metadata": {},
   "outputs": [],
   "source": [
    "#pm.autocorrplot(cadena_d, varnames=[epsilon, nu]);"
   ]
  },
  {
   "cell_type": "code",
   "execution_count": null,
   "metadata": {},
   "outputs": [],
   "source": [
    "pm.df_summary(cadena_d, varnames)"
   ]
  },
  {
   "cell_type": "markdown",
   "metadata": {
    "collapsed": true
   },
   "source": [
    "Tenemos dos opciones aumentar la cantidad de datos, que para los datos sintéticos es tan simple como aumentar N (de hecho eso es un buen ejercicio), pero que en la realidad puede ser difícil, engorroso o incluso imposible o podemos hacer un modelo jerárquico.\n",
    "\n",
    "<img alt=\"regresión_lineal_simple\" src=\"imagenes/MLG_regresión_robusta_jerarquica.png\", width=500>"
   ]
  },
  {
   "cell_type": "code",
   "execution_count": null,
   "metadata": {},
   "outputs": [],
   "source": [
    "with pm.Model() as modelo_agrupado:\n",
    "    # hyper-priors\n",
    "    alpha_tmp_mu = pm.Normal('alpha_tmp_mu', mu=0, sd=100)\n",
    "    alpha_tmp_sd = pm.Uniform('alpha_tmp_sd', lower=0.01, upper=100)\n",
    "    beta_mu = pm.Normal('beta_mu', mu=0, sd=100)\n",
    "    beta_sd = pm.Uniform('beta_sd', lower=0.01, upper=100)\n",
    "\n",
    "    \n",
    "    # a prioris\n",
    "    alpha_tmp = pm.Normal('alpha_tmp', mu=alpha_tmp_mu, sd=alpha_tmp_sd, shape=M)\n",
    "    beta = pm.Normal('beta', mu=beta_mu, sd=beta_sd, shape=M)\n",
    "    epsilon = pm.Uniform('epsilon', lower=0, upper=100)\n",
    "    nu0 = pm.Exponential('nu0', 1/29)\n",
    "    nu = pm.Deterministic('nu', nu0 + 1)\n",
    "\n",
    "    y_pred = pm.StudentT('y_pred', mu=alpha_tmp[idx] + beta[idx] * x_centrada, sd=epsilon, nu=nu, observed=y_m)\n",
    "\n",
    "    # correjimos alfa para que esté en la escala original de los datos\n",
    "    alpha = pm.Deterministic('alpha', alpha_tmp - beta * x_m.mean()) \n",
    "    alpha_mu = pm.Deterministic('alpha_mu', alpha_tmp_mu - beta_mu * x_m.mean())\n",
    "    alpha_sd = pm.Deterministic('alpha_sd', alpha_tmp_sd - beta_mu * x_m.mean())\n",
    "    start = pm.find_MAP()\n",
    "    #step = pm.NUTS(scaling=start) \n",
    "    step = pm.Metropolis()\n",
    "    trace_a = pm.sample(20000, step=step, start=start)"
   ]
  },
  {
   "cell_type": "code",
   "execution_count": null,
   "metadata": {},
   "outputs": [],
   "source": [
    "cadena_a = trace_a[2500::5]\n",
    "varnames=['alpha', 'alpha_mu', 'alpha_sd', 'beta', 'beta_mu', 'beta_sd', 'epsilon', 'nu']\n",
    "pm.traceplot(cadena_a, varnames);"
   ]
  },
  {
   "cell_type": "code",
   "execution_count": null,
   "metadata": {},
   "outputs": [],
   "source": [
    "pm.df_summary(cadena_a, varnames)"
   ]
  },
  {
   "cell_type": "code",
   "execution_count": null,
   "metadata": {},
   "outputs": [],
   "source": [
    "plt.figure(figsize=(10,5))\n",
    "j, k = 0, N\n",
    "x_range = np.linspace(x_m.min(), x_m.max(), 10)\n",
    "for i in range(M):\n",
    "    plt.subplot(2,4,i+1)\n",
    "    plt.scatter(x_m[j:k], y_m[j:k])\n",
    "    alfa_m = cadena_a['alpha'][:,i].mean()\n",
    "    beta_m = cadena_a['beta'][:,i].mean()\n",
    "    plt.plot(x_range, alfa_m + beta_m*x_range, c='g', label='y = {:.2f} + {:.2f} * x'.format(alfa_m, beta_m))\n",
    "    plt.xlim(x_m.min()-1, x_m.max()+1)\n",
    "    plt.ylim(y_m.min()-1, y_m.max()+1)\n",
    "    #print(stats.linregress(x_m[j:k], y_m[j:k])[:2])\n",
    "    j += N\n",
    "    k += N\n",
    "plt.tight_layout()\n",
    "plt.savefig('Regresion_robusta_jerarquica_resultado', dpi=300)"
   ]
  },
  {
   "cell_type": "markdown",
   "metadata": {},
   "source": [
    "## 1.9 Regresión polinomial"
   ]
  },
  {
   "cell_type": "markdown",
   "metadata": {},
   "source": [
    "Como ya anticipamos, la regresión lineal simple sirve de base para construir muchos otros modelos. Incluso para construir modelos que ajustan curvas. Una forma de ajustar curvas es mediante la construcción de polinomios que lucen como: \n",
    "\n",
    "$$\\mu = \\beta_0 X^0 + \\beta_1 X^1 + \\beta_2 X^2 + \\beta_3 X^3 ... + \\beta_n X^n$$\n",
    "\n",
    "Esta ecuación muestra un polinomio de grado n. Dentro de este polinomio se encuentra escondida la ecuación de la recta que hemos venido usando, para descubrirla solo hay que hacer que todos los coeficientes $\\beta_n$ para $n > 1$ sean igual a cero y obtendremos\n",
    "\n",
    "$$\\mu = \\beta_0 + \\beta_1 X$$\n",
    "\n",
    "Por lo tanto el modelo lineal que hemos venido usando hasta ahora puede ser _expandido_ para representar relaciones no lineales!\n",
    "\n",
    "El modelo polinomial más simple (luego de una constante y de la recta, claro está) es la ecuación de una parábola.\n",
    "\n",
    "$$\\mu = \\alpha + \\beta_1 X + \\beta_2 X^2$$\n",
    "\n",
    "El tercer término es el que controla la curvatura de la relación. Aún cuando aparece $X$ elevado al cuadrado esta regresión se considera un modelo lineal ya que es lineal respecto de los coeficientes $\\alpha$ y $\\beta$ (y es por ello que se llama lineal, no por que ajuste lineas rectas!). Quizá la siguiente expresión aclare las cosas (o las empeore), un modelo lineal se puede escribir de forma matricial como:\n",
    "\n",
    "$$\\mu = \\beta X$$\n",
    "\n",
    "donde $\\beta$ es un vector de coeficientes de tamaño igual al orden del polinomio más 1 (para una recta seria 2 y para una parábola 3) y $X$ es una matriz de $n \\times m$, siendo $n$ la cantidad de observaciones y $m$ de igual tamaño que $\\beta$.\n",
    "\n",
    "Veamos como ajustar este modelo usando el segundo conjunto de datos del cuarteto de Anscombe"
   ]
  },
  {
   "cell_type": "code",
   "execution_count": null,
   "metadata": {},
   "outputs": [],
   "source": [
    "x_2 = np.array([ 10.,   8.,  13.,   9.,  11.,  14.,   6.,   4.,  12.,   7.,   5.])\n",
    "y_2 = np.array([ 9.14,  8.14,  8.74,  8.77,  9.26,  8.1 ,  6.13,  3.1 ,  9.13,\n",
    "        7.26,  4.74])"
   ]
  },
  {
   "cell_type": "code",
   "execution_count": null,
   "metadata": {},
   "outputs": [],
   "source": [
    "plt.scatter(x_2, y_2);"
   ]
  },
  {
   "cell_type": "code",
   "execution_count": null,
   "metadata": {},
   "outputs": [],
   "source": [
    "with pm.Model() as modelo_c:\n",
    "    alpha = pm.Normal('alpha', mu=0, sd=10)\n",
    "    beta1 = pm.Normal('beta1', mu=0, sd=10)\n",
    "    beta2 = pm.Normal('beta2', mu=0, sd=10)\n",
    "    epsilon = pm.Uniform('epsilon', lower=0, upper=10)\n",
    "\n",
    "    mu = alpha + beta1 * x_2 + beta2 * x_2**2\n",
    "    \n",
    "    y_pred = pm.Normal('y_pred', mu=mu, sd=epsilon, observed=y_2)\n",
    "\n",
    "    start = pm.find_MAP()\n",
    "    step = pm.NUTS(scaling=start)\n",
    "    trace_c = pm.sample(5000, step=step, start=start)"
   ]
  },
  {
   "cell_type": "code",
   "execution_count": null,
   "metadata": {},
   "outputs": [],
   "source": [
    "cadena_c = trace_c[1000::]\n",
    "pm.traceplot(cadena_c, varnames=[alpha, beta1, beta2, epsilon]);"
   ]
  },
  {
   "cell_type": "code",
   "execution_count": null,
   "metadata": {},
   "outputs": [],
   "source": [
    "x_p = np.linspace(4, 14, 50)\n",
    "y_p = cadena_c['alpha'].mean() + cadena_c['beta1'].mean() * x_p + cadena_c['beta2'].mean() * x_p**2\n",
    "plt.scatter(x_2, y_2)\n",
    "plt.plot(x_p, y_p, c='r');"
   ]
  },
  {
   "cell_type": "code",
   "execution_count": null,
   "metadata": {},
   "outputs": [],
   "source": [
    "pm.df_summary(cadena_c)"
   ]
  },
  {
   "cell_type": "markdown",
   "metadata": {},
   "source": [
    "Uno de los problemas de la regresión lineal es que la interpretación de los coeficientes puede ser complicada. Por ejemplo para evaluar cuando aumenta $y$ por unidad de aumento de $x$ no basta con el parámetro $\\beta_1$ ya que $\\beta_2$ tiene un efecto sobre esta cantidad. En el ejemplo anterior $\\beta_1$ es positiva indicando una pendiente positiva, pero $\\beta_2$ es negativo por lo tanto se contrapone a este aumento, además este _juego de fuerzas_ entre $\\beta_1$ y $\\beta_2$ depende de $x$. Cuando $x < ~11$ domina la contribución de $\\beta_1$ pero para $x > ~11$ la contribución de $\\beta_2$ es mayor.\n",
    "\n",
    "Si la interpretación de los coeficientes es importante (y no solo ajustar la curva) entonces puede ser mejor idea incorporar las relaciones no-lineales siguiendo alguna teoría o modelo más mecanicista del problema que conduzca a un modelo distinto de un polinomio."
   ]
  },
  {
   "cell_type": "markdown",
   "metadata": {},
   "source": [
    "### 1.9.1 Polinomios de grado ¿infinito?"
   ]
  },
  {
   "cell_type": "markdown",
   "metadata": {},
   "source": [
    "Si el modelo lineal es un súbmodelo de un polinomio de grado 2 (o en general de grado $n \\ge 2$). Entonces esto quiere decir que un polinomio de grado 2 no solo ajusta curvas más o menos parabólicas, si no que además ajusta puntos que siguen una relación más o menos lineal, en ese caso $\\beta_2$ simplemente valdrá cero. Este es un buen momento para dejar de leer y usar el modelo polinomial anterior para ajustar x_3 e y_3 (el tercer conjunto de datos del cuarteto de Anscombe).\n",
    "\n",
    "Si realmente dejaron de leer e hicieron el ejercicio propuesto habrán comprobado por ustedes mismos que se puede usar un modelo cuadrático para ajustar una recta. Una posible conclusión de este ejercicio es que no habría razón para detenerse en un polinomio de grado 2, si no que deberíamos usar polinomios de grado infinito! Hay al menos dos formas de poner esta idea en práctica:\n",
    "\n",
    "* La versión ingenua: Como veremos en detalle en el capítulo XX el problema de esta aproximación es que conduce a _sobreajustar_ los datos (_overfitting_). Esto sucede cuando el modelo no solo ajusta (o _aprende_ en términos de _machine learning_) los datos si no que empieza a ajustar también el ruido. Es decir en vez de obtener un modelo que es una buena generalización de los datos obtenemos un modelo que es una buena _particularización_ de los datos, explica tan bien los _detalles_ que no sirve para explicar otros datos similares. En el capítulo  sobre selección de modelos veremos estrategias para modelos que ajusten bien los datos pero sin producir _overfitting_.\n",
    "\n",
    "* Los modelos no-paramétricos: Todos los modelos Bayesianos que hemos visto hasta ahora son paramétricos. Es decir, nuestro objetivo ha sido dado un modelo y un conjunto de datos determinar los parámetros de ese modelo. El único caso de aproximación no-paramétrica que hemos visto ha sido el KDE (pero que no es Bayesiana), en el KDE por cada nuevo punto que tengamos en los datos se suma una nueva Gaussiana. De forma similar, los modelos Bayesianos no paramétricos no es que carezcan de parámetros si no que el número de parámetros aumenta a medida que aumentan los datos (teóricamente se puede pensar como un modelo con parámetros infinitos). En este curso NO veremos modelos Bayesianos no-paramétricos. Quien tenga interés en seguir leyendo sobre este tema puede buscar información usando los términos Procesos Gaussianos (Gaussian processes) y Procesos de Dirichlet (Dirichlet processes)."
   ]
  },
  {
   "cell_type": "markdown",
   "metadata": {
    "collapsed": true
   },
   "source": [
    "## 1.10 Para seguir leyendo"
   ]
  },
  {
   "cell_type": "markdown",
   "metadata": {},
   "source": [
    "* Más sobre modelos generalizados lineales en:\n",
    "    * Capítulo 17 de [Doing Bayesian Data Analysis (2 edición)](www.amazon.com/gp/product/0124058884) de John Kruschke.\n",
    "    * Capítulo 4 de [Statistical Rethinking](https://www.crcpress.com/Statistical-Rethinking-A-Bayesian-Course-with-Examples-in-R-and-Stan/McElreath/9781482253443) de Richard McElreath.\n",
    "    * Capítulos 14 a 17 de [Bayesian Data Analysis](www.amazon.com/Bayesian-Analysis-Chapman-Statistical-Science/dp/1439840954) de Andrew Gelman\n",
    "\n",
    "* Material online con tópicos Bayesianos:\n",
    "    * [Publishable Stuff](http://sumsar.net/)\n",
    "    * [Probably Overthinking It](http://allendowney.blogspot.com.ar/)\n",
    "    * [Pythonic Perambulations](http://jakevdp.github.io./)\n",
    "    * [While My MCMC Gently Samples](http://twiecki.github.io/)\n",
    "    * [Count Bayesie](https://www.countbayesie.com/)\n",
    "    * [Bayesian Methods for Hackers](http://camdavidsonpilon.github.io/Probabilistic-Programming-and-Bayesian-Methods-for-Hackers/#contents)   \n",
    "\n",
    "\n",
    "* Las plantillas utilizadas para generar los diagramas de Kruschke, fueron creadas por [Rasmus Bååth's](http://sumsar.net/blog/2013/10/diy-kruschke-style-diagrams/)\n",
    "    * Capítulo 9 de [Doing Bayesian Data Analysis (2 edición)](www.amazon.com/gp/product/0124058884) de John Kruschke.\n",
    "    * Capítulo 12 de [Statistical Rethinking](https://www.crcpress.com/Statistical-Rethinking-A-Bayesian-Course-with-Examples-in-R-and-Stan/McElreath/9781482253443) de Richard McElreath.\n",
    "\n",
    "* Material online con tópicos Bayesianos:\n",
    "    * [Publishable Stuff](http://sumsar.net/)\n",
    "    * [Probably Overthinking It](http://allendowney.blogspot.com.ar/)\n",
    "    * [Pythonic Perambulations](http://jakevdp.github.io./)\n",
    "    * [While My MCMC Gently Samples](http://twiecki.github.io/)\n",
    "    * [Count Bayesie](https://www.countbayesie.com/)\n",
    "    * [Bayesian Methods for Hackers](http://camdavidsonpilon.github.io/Probabilistic-Programming-and-Bayesian-Methods-for-Hackers/#contents)   \n",
    "\n",
    "\n",
    "* Las plantillas utilizadas para generar los diagramas de Kruschke, fueron creadas por [Rasmus Bååth's](http://sumsar.net/blog/2013/10/diy-kruschke-style-diagrams/)"
   ]
  },
  {
   "cell_type": "code",
   "execution_count": null,
   "metadata": {},
   "outputs": [],
   "source": [
    "import sys, IPython, scipy, matplotlib, platform\n",
    "print(\"Esta notebook fue creada en una computadora %s corriendo %s y usando:\\nPython %s\\nIPython %s\\nPyMC3 %s\\nNumPy %s\\nSciPy %s\\nMatplotlib %s\\nSeaborn %s\\n\" % (platform.machine(), ' '.join(platform.linux_distribution()[:2]), sys.version[:5], IPython.__version__, pm.__version__, np.__version__, scipy.__version__, matplotlib.__version__, sns.__version__))"
   ]
  }
 ],
 "metadata": {
  "kernelspec": {
   "display_name": "Python 3",
   "language": "python",
   "name": "python3"
  },
  "language_info": {
   "codemirror_mode": {
    "name": "ipython",
    "version": 3
   },
   "file_extension": ".py",
   "mimetype": "text/x-python",
   "name": "python",
   "nbconvert_exporter": "python",
   "pygments_lexer": "ipython3",
   "version": "3.5.3"
  }
 },
 "nbformat": 4,
 "nbformat_minor": 1
}
